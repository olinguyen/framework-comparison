{
 "cells": [
  {
   "cell_type": "code",
   "execution_count": 1,
   "metadata": {
    "collapsed": true
   },
   "outputs": [],
   "source": [
    "import tensorflow as tf\n",
    "import numpy as np\n",
    "import matplotlib.pyplot as plt\n",
    "import os\n",
    "%matplotlib inline"
   ]
  },
  {
   "cell_type": "code",
   "execution_count": 29,
   "metadata": {
    "collapsed": false
   },
   "outputs": [
    {
     "name": "stdout",
     "output_type": "stream",
     "text": [
      "Extracting /tmp/data/train-images-idx3-ubyte.gz\n",
      "Extracting /tmp/data/train-labels-idx1-ubyte.gz\n",
      "Extracting /tmp/data/t10k-images-idx3-ubyte.gz\n",
      "Extracting /tmp/data/t10k-labels-idx1-ubyte.gz\n",
      "\n",
      "Number of training samples 55000\n",
      "Number of dimensions 784\n",
      "Number of classes 784\n"
     ]
    },
    {
     "data": {
      "image/png": "[encoded data removed]",
      "text/plain": [
       "<matplotlib.figure.Figure at 0x7f502910eb00>"
      ]
     },
     "metadata": {},
     "output_type": "display_data"
    }
   ],
   "source": [
    "# Import MNIST data\n",
    "from tensorflow.examples.tutorials.mnist import input_data\n",
    "mnist = input_data.read_data_sets(\"/tmp/data/\", one_hot=True)\n",
    "\n",
    "img = mnist.train.images[9].reshape(28, 28)\n",
    "plt.imshow(img, cmap='gray')\n",
    "\n",
    "num_train = mnist.train.num_examples\n",
    "num_dims = mnist.train.images[0].shape[0]\n",
    "num_classes = mnist.test.labels.shape[1]\n",
    "\n",
    "print()\n",
    "print(\"Number of training samples\", num_train)\n",
    "print(\"Number of dimensions\", num_dims)\n",
    "print(\"Number of classes\", num_dims)"
   ]
  },
  {
   "cell_type": "markdown",
   "metadata": {},
   "source": [
    "# Tensorflow"
   ]
  },
  {
   "cell_type": "markdown",
   "metadata": {},
   "source": [
    "![Placeholder](placeholders.png)"
   ]
  },
  {
   "cell_type": "code",
   "execution_count": 3,
   "metadata": {
    "collapsed": false
   },
   "outputs": [],
   "source": [
    "x = tf.placeholder(tf.float32, [None, num_dims])\n",
    "y = tf.placeholder(tf.float32, [None, num_classes])\n",
    "\n",
    "# First Layer\n",
    "w1 = tf.Variable(tf.zeros([784, 10]))\n",
    "b1 = tf.Variable(tf.zeros([10]))\n",
    "y1 = tf.matmul(x, w1) + b1\n",
    "\n",
    "# Output\n",
    "pred = tf.nn.softmax(y1)\n",
    "loss = tf.reduce_mean(-tf.reduce_sum(y*tf.log(pred), reduction_indices=1))\n",
    "\n",
    "# Test model\n",
    "correct_prediction = tf.equal(tf.argmax(pred, 1), tf.argmax(y, 1))\n",
    "\n",
    "# Calculate accuracy\n",
    "accuracy = tf.reduce_mean(tf.cast(correct_prediction, tf.float32))"
   ]
  },
  {
   "cell_type": "code",
   "execution_count": 23,
   "metadata": {
    "collapsed": false
   },
   "outputs": [
    {
     "name": "stdout",
     "output_type": "stream",
     "text": [
      "Epoch: 0001 cost= 0.399879692 accuracy= 0.920000017\n",
      "Epoch: 0002 cost= 0.310602466 accuracy= 0.910000026\n",
      "Epoch: 0003 cost= 0.294881901 accuracy= 0.930000007\n",
      "Epoch: 0004 cost= 0.286769280 accuracy= 0.889999986\n",
      "Epoch: 0005 cost= 0.281118020 accuracy= 0.920000017\n",
      "Optimization Finished!\n",
      "Accuracy: 0.9207\n"
     ]
    }
   ],
   "source": [
    "# Train model\n",
    "optimizer = tf.train.GradientDescentOptimizer(learning_rate=0.5).minimize(loss)\n",
    "\n",
    "# Initialize the variables.\n",
    "init = tf.initialize_all_variables()\n",
    "\n",
    "# Parameters\n",
    "learning_rate = 0.01\n",
    "training_epochs = 5\n",
    "batch_size = 100\n",
    "display_step = 1\n",
    "\n",
    "with tf.Session() as sess:\n",
    "    sess.run(init)\n",
    "    \n",
    "    for epoch in range(training_epochs):\n",
    "        avg_loss = 0.\n",
    "        total_batch = int(mnist.train.num_examples/batch_size)\n",
    "        # Loop over all batches\n",
    "        for i in range(total_batch):\n",
    "            batch_xs, batch_ys = mnist.train.next_batch(batch_size)\n",
    "\n",
    "            _, l, acc = sess.run([optimizer, loss, accuracy], \n",
    "                                 feed_dict={x: batch_xs, y: batch_ys})\n",
    "            \n",
    "            # Compute average loss\n",
    "            avg_loss += l / total_batch\n",
    "            \n",
    "        # Display logs per epoch step\n",
    "        if (epoch+1) % display_step == 0:\n",
    "            print(\"Epoch:\", '%04d' % (epoch+1), \"cost=\", \"{:.9f}\".format(avg_loss), \"accuracy=\", \"{:.9f}\".format(acc))\n",
    "            \n",
    "    print(\"Optimization Finished!\")\n",
    "    print(\"Accuracy:\", accuracy.eval({x: mnist.test.images, y: mnist.test.labels}))"
   ]
  },
  {
   "cell_type": "markdown",
   "metadata": {},
   "source": [
    "# Keras"
   ]
  },
  {
   "cell_type": "code",
   "execution_count": 20,
   "metadata": {
    "collapsed": false
   },
   "outputs": [],
   "source": [
    "from keras.models import Sequential\n",
    "from keras.layers.core import Dense, Dropout, Activation\n",
    "from keras.optimizers import RMSprop\n",
    "from keras.optimizers import SGD\n",
    "from keras.utils import np_utils"
   ]
  },
  {
   "cell_type": "code",
   "execution_count": 21,
   "metadata": {
    "collapsed": false
   },
   "outputs": [
    {
     "name": "stdout",
     "output_type": "stream",
     "text": [
      "____________________________________________________________________________________________________\n",
      "Layer (type)                     Output Shape          Param #     Connected to                     \n",
      "====================================================================================================\n",
      "dense_6 (Dense)                  (None, 10)            7850        dense_input_4[0][0]              \n",
      "____________________________________________________________________________________________________\n",
      "activation_6 (Activation)        (None, 10)            0           dense_6[0][0]                    \n",
      "====================================================================================================\n",
      "Total params: 7850\n",
      "____________________________________________________________________________________________________\n"
     ]
    }
   ],
   "source": [
    "model = Sequential()\n",
    "model.add(Dense(10, input_shape=(784,)))\n",
    "model.add(Activation('softmax'))\n",
    "\n",
    "model.summary()\n",
    "\n",
    "model.compile(loss='categorical_crossentropy',\n",
    "              optimizer=SGD(),\n",
    "              metrics=['accuracy'])"
   ]
  },
  {
   "cell_type": "code",
   "execution_count": 22,
   "metadata": {
    "collapsed": false
   },
   "outputs": [
    {
     "name": "stdout",
     "output_type": "stream",
     "text": [
      "Train on 55000 samples, validate on 10000 samples\n",
      "Epoch 1/5\n",
      "55000/55000 [==============================] - 1s - loss: 1.2200 - acc: 0.7153 - val_loss: 0.7490 - val_acc: 0.8444\n",
      "Epoch 2/5\n",
      "55000/55000 [==============================] - 0s - loss: 0.6709 - acc: 0.8484 - val_loss: 0.5673 - val_acc: 0.8698\n",
      "Epoch 3/5\n",
      "55000/55000 [==============================] - 0s - loss: 0.5561 - acc: 0.8642 - val_loss: 0.4954 - val_acc: 0.8796\n",
      "Epoch 4/5\n",
      "55000/55000 [==============================] - 1s - loss: 0.5014 - acc: 0.8731 - val_loss: 0.4554 - val_acc: 0.8865\n",
      "Epoch 5/5\n",
      "55000/55000 [==============================] - 1s - loss: 0.4678 - acc: 0.8786 - val_loss: 0.4290 - val_acc: 0.8905\n",
      "Test score: 0.429007939672\n",
      "Test accuracy: 0.8905\n"
     ]
    }
   ],
   "source": [
    "X_train = mnist.train.images\n",
    "Y_train = mnist.train.labels\n",
    "X_test = mnist.test.images\n",
    "Y_test = mnist.test.labels\n",
    "\n",
    "training_epochs=5\n",
    "\n",
    "history = model.fit(X_train, Y_train,\n",
    "                    batch_size=batch_size, nb_epoch=training_epochs,\n",
    "                    verbose=1, validation_data=(X_test, Y_test))\n",
    "score = model.evaluate(X_test, Y_test, verbose=0)\n",
    "print('Test score:', score[0])\n",
    "print('Test accuracy:', score[1])"
   ]
  }
 ],
 "metadata": {
  "anaconda-cloud": {},
  "kernelspec": {
   "display_name": "Python [conda root]",
   "language": "python",
   "name": "conda-root-py"
  },
  "language_info": {
   "codemirror_mode": {
    "name": "ipython",
    "version": 3
   },
   "file_extension": ".py",
   "mimetype": "text/x-python",
   "name": "python",
   "nbconvert_exporter": "python",
   "pygments_lexer": "ipython3",
   "version": "3.5.2"
  }
 },
 "nbformat": 4,
 "nbformat_minor": 1
}
